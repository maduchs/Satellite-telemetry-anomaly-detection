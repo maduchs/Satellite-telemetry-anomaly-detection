{
 "cells": [
  {
   "cell_type": "code",
   "execution_count": 1,
   "id": "04bc0c4c-32d2-4b3c-9f4c-a0fb64447821",
   "metadata": {},
   "outputs": [],
   "source": [
    "from imblearn.over_sampling import SMOTE\n",
    "from sklearn.model_selection import train_test_split\n",
    "from sklearn.preprocessing import MinMaxScaler\n",
    "import pandas as pd\n"
   ]
  },
  {
   "cell_type": "code",
   "execution_count": 2,
   "id": "33d874a5-b7ce-42df-ae39-b8f32119dcd5",
   "metadata": {},
   "outputs": [],
   "source": [
    "df = pd.read_csv(r\"C:\\Users\\MADHUCHANDRA\\Downloads\\space_telemetry.csv\")"
   ]
  },
  {
   "cell_type": "code",
   "execution_count": 3,
   "id": "4acf18a1-2683-4477-a0e8-800bfa3cea3e",
   "metadata": {},
   "outputs": [
    {
     "name": "stdout",
     "output_type": "stream",
     "text": [
      "<class 'pandas.core.frame.DataFrame'>\n",
      "RangeIndex: 1020 entries, 0 to 1019\n",
      "Data columns (total 16 columns):\n",
      " #   Column                 Non-Null Count  Dtype  \n",
      "---  ------                 --------------  -----  \n",
      " 0   Timestamp              1020 non-null   object \n",
      " 1   Subsystem              1020 non-null   object \n",
      " 2   Sensor_ID              1020 non-null   int64  \n",
      " 3   Telemetry_Value        970 non-null    float64\n",
      " 4   Unit                   1020 non-null   object \n",
      " 5   Status                 1020 non-null   object \n",
      " 6   Anomaly_Type           315 non-null    object \n",
      " 7   Error_Code             809 non-null    float64\n",
      " 8   Source_IP              1020 non-null   object \n",
      " 9   Destination_IP         1020 non-null   object \n",
      " 10  Authentication_Status  1020 non-null   int64  \n",
      " 11  Encryption_Level       913 non-null    float64\n",
      " 12  Packet_Loss (%)        1020 non-null   float64\n",
      " 13  CPU_Usage (%)          1020 non-null   float64\n",
      " 14  Memory_Usage (MB)      1020 non-null   float64\n",
      " 15  Anomaly_Label          1020 non-null   int64  \n",
      "dtypes: float64(6), int64(3), object(7)\n",
      "memory usage: 127.6+ KB\n",
      "None\n",
      "         Sensor_ID  Telemetry_Value  Error_Code  Authentication_Status  \\\n",
      "count  1020.000000       970.000000  809.000000            1020.000000   \n",
      "mean     25.244118        49.945504  247.218789               0.499020   \n",
      "std      14.257832        10.334684  110.221662               0.500244   \n",
      "min       1.000000        16.115719  100.000000               0.000000   \n",
      "25%      13.000000        43.113493  200.000000               0.000000   \n",
      "50%      25.500000        49.762720  200.000000               0.000000   \n",
      "75%      37.000000        57.165606  300.000000               1.000000   \n",
      "max      49.000000        81.419670  400.000000               1.000000   \n",
      "\n",
      "       Encryption_Level  Packet_Loss (%)  CPU_Usage (%)  Memory_Usage (MB)  \\\n",
      "count        913.000000      1020.000000    1020.000000        1020.000000   \n",
      "mean           2.291347         3.906499      50.686942        1999.076950   \n",
      "std            0.950820         8.418886      22.475036         516.226773   \n",
      "min            1.000000         0.000000       0.000000         441.673576   \n",
      "25%            2.000000         0.000000      36.051598        1656.485664   \n",
      "50%            2.000000         1.936309      49.774388        2002.732924   \n",
      "75%            3.000000         5.404119      64.047775        2352.003408   \n",
      "max            4.000000        80.000000     150.000000        3699.063659   \n",
      "\n",
      "       Anomaly_Label  \n",
      "count    1020.000000  \n",
      "mean        0.104902  \n",
      "std         0.306577  \n",
      "min         0.000000  \n",
      "25%         0.000000  \n",
      "50%         0.000000  \n",
      "75%         0.000000  \n",
      "max         1.000000  \n",
      "Timestamp                  0\n",
      "Subsystem                  0\n",
      "Sensor_ID                  0\n",
      "Telemetry_Value           50\n",
      "Unit                       0\n",
      "Status                     0\n",
      "Anomaly_Type             705\n",
      "Error_Code               211\n",
      "Source_IP                  0\n",
      "Destination_IP             0\n",
      "Authentication_Status      0\n",
      "Encryption_Level         107\n",
      "Packet_Loss (%)            0\n",
      "CPU_Usage (%)              0\n",
      "Memory_Usage (MB)          0\n",
      "Anomaly_Label              0\n",
      "dtype: int64\n"
     ]
    }
   ],
   "source": [
    "print(df.info())\n",
    "print(df.describe())\n",
    "print(df.isnull().sum())\n"
   ]
  },
  {
   "cell_type": "code",
   "execution_count": 4,
   "id": "edcd7056-4df1-460b-87ad-01c55487313b",
   "metadata": {},
   "outputs": [
    {
     "name": "stdout",
     "output_type": "stream",
     "text": [
      "Timestamp                0\n",
      "Subsystem                0\n",
      "Sensor_ID                0\n",
      "Telemetry_Value          0\n",
      "Status                   0\n",
      "Anomaly_Type             0\n",
      "Error_Code               0\n",
      "Authentication_Status    0\n",
      "Encryption_Level         0\n",
      "Packet_Loss (%)          0\n",
      "CPU_Usage (%)            0\n",
      "Memory_Usage (MB)        0\n",
      "Anomaly_Label            0\n",
      "dtype: int64\n"
     ]
    },
    {
     "name": "stderr",
     "output_type": "stream",
     "text": [
      "C:\\Users\\MADHUCHANDRA\\AppData\\Local\\Temp\\ipykernel_28076\\1340593904.py:3: FutureWarning: A value is trying to be set on a copy of a DataFrame or Series through chained assignment using an inplace method.\n",
      "The behavior will change in pandas 3.0. This inplace method will never work because the intermediate object on which we are setting values always behaves as a copy.\n",
      "\n",
      "For example, when doing 'df[col].method(value, inplace=True)', try using 'df.method({col: value}, inplace=True)' or df[col] = df[col].method(value) instead, to perform the operation inplace on the original object.\n",
      "\n",
      "\n",
      "  df[\"Telemetry_Value\"].fillna(df[\"Telemetry_Value\"].median(), inplace=True)\n",
      "C:\\Users\\MADHUCHANDRA\\AppData\\Local\\Temp\\ipykernel_28076\\1340593904.py:4: FutureWarning: A value is trying to be set on a copy of a DataFrame or Series through chained assignment using an inplace method.\n",
      "The behavior will change in pandas 3.0. This inplace method will never work because the intermediate object on which we are setting values always behaves as a copy.\n",
      "\n",
      "For example, when doing 'df[col].method(value, inplace=True)', try using 'df.method({col: value}, inplace=True)' or df[col] = df[col].method(value) instead, to perform the operation inplace on the original object.\n",
      "\n",
      "\n",
      "  df[\"Encryption_Level\"].fillna(df[\"Encryption_Level\"].mode()[0], inplace=True)  # Categorical mode\n",
      "C:\\Users\\MADHUCHANDRA\\AppData\\Local\\Temp\\ipykernel_28076\\1340593904.py:5: FutureWarning: A value is trying to be set on a copy of a DataFrame or Series through chained assignment using an inplace method.\n",
      "The behavior will change in pandas 3.0. This inplace method will never work because the intermediate object on which we are setting values always behaves as a copy.\n",
      "\n",
      "For example, when doing 'df[col].method(value, inplace=True)', try using 'df.method({col: value}, inplace=True)' or df[col] = df[col].method(value) instead, to perform the operation inplace on the original object.\n",
      "\n",
      "\n",
      "  df[\"Anomaly_Type\"].fillna(df[\"Anomaly_Type\"].mode()[0], inplace=True)\n"
     ]
    }
   ],
   "source": [
    "\n",
    "df.drop([\"Unit\", \"Source_IP\", \"Destination_IP\"], axis=1, inplace=True)\n",
    "\n",
    "df[\"Telemetry_Value\"].fillna(df[\"Telemetry_Value\"].median(), inplace=True)\n",
    "df[\"Encryption_Level\"].fillna(df[\"Encryption_Level\"].mode()[0], inplace=True)  # Categorical mode\n",
    "df[\"Anomaly_Type\"].fillna(df[\"Anomaly_Type\"].mode()[0], inplace=True)\n",
    "\n",
    "\n",
    "df.dropna(subset=[\"Error_Code\"], inplace=True)\n",
    "\n",
    "\n",
    "print(df.isnull().sum())\n",
    "\n"
   ]
  },
  {
   "cell_type": "code",
   "execution_count": 5,
   "id": "1328cb5d-9fb5-47f3-8666-62958a388afd",
   "metadata": {},
   "outputs": [
    {
     "name": "stdout",
     "output_type": "stream",
     "text": [
      "Duplicate rows: 15\n"
     ]
    }
   ],
   "source": [
    "\n",
    "print(\"Duplicate rows:\", df.duplicated().sum())\n",
    "\n",
    "df.drop_duplicates(inplace=True)\n"
   ]
  },
  {
   "cell_type": "code",
   "execution_count": 6,
   "id": "4cf98537-2d1f-4ce4-932b-4a42d31638ce",
   "metadata": {},
   "outputs": [
    {
     "data": {
      "image/png": "[encoded data removed]",
      "text/plain": [
       "<Figure size 1200x600 with 1 Axes>"
      ]
     },
     "metadata": {},
     "output_type": "display_data"
    }
   ],
   "source": [
    "import seaborn as sns\n",
    "import matplotlib.pyplot as plt\n",
    "\n",
    "plt.figure(figsize=(12, 6))\n",
    "sns.boxplot(data=df[[\"Telemetry_Value\", \"Packet_Loss (%)\", \"CPU_Usage (%)\"]])\n",
    "plt.show()\n"
   ]
  },
  {
   "cell_type": "code",
   "execution_count": 7,
   "id": "40c83f53-5598-447c-a8f8-a56555991ca3",
   "metadata": {},
   "outputs": [
    {
     "name": "stdout",
     "output_type": "stream",
     "text": [
      "Dataset shape after outlier removal: (768, 13)\n"
     ]
    }
   ],
   "source": [
    "\n",
    "def remove_outliers(df, column):\n",
    "    Q1 = df[column].quantile(0.25)\n",
    "    Q3 = df[column].quantile(0.75)\n",
    "    IQR = Q3 - Q1\n",
    "    lower_bound = Q1 - 1.5 * IQR\n",
    "    upper_bound = Q3 + 1.5 * IQR\n",
    "    df = df[(df[column] >= lower_bound) & (df[column] <= upper_bound)]\n",
    "    return df\n",
    "\n",
    "df = remove_outliers(df, \"Telemetry_Value\")\n",
    "df = remove_outliers(df, \"Packet_Loss (%)\")\n",
    "df = remove_outliers(df, \"CPU_Usage (%)\")\n",
    "\n",
    "print(f\"Dataset shape after outlier removal: {df.shape}\")\n"
   ]
  },
  {
   "cell_type": "code",
   "execution_count": 8,
   "id": "f4cb3659-d896-48c7-bb39-61725f43653c",
   "metadata": {},
   "outputs": [
    {
     "name": "stdout",
     "output_type": "stream",
     "text": [
      "             Timestamp  Subsystem  Sensor_ID  Telemetry_Value  Status  \\\n",
      "1  2025-01-01 00:01:00          1          9        43.704835       2   \n",
      "4  2025-01-01 00:04:00          0         13        49.583785       0   \n",
      "5  2025-01-01 00:05:00          1         28        55.560566       2   \n",
      "6  2025-01-01 00:06:00          2         48        44.581009       1   \n",
      "8  2025-01-01 00:08:00          0         13        49.762720       0   \n",
      "\n",
      "   Anomaly_Type  Error_Code  Authentication_Status  Encryption_Level  \\\n",
      "1             1       200.0                      0               2.0   \n",
      "4             2       400.0                      1               1.0   \n",
      "5             2       100.0                      1               1.0   \n",
      "6             1       400.0                      0               2.0   \n",
      "8             2       400.0                      0               3.0   \n",
      "\n",
      "   Packet_Loss (%)  CPU_Usage (%)  Memory_Usage (MB)  Anomaly_Label  \n",
      "1         0.000000      46.851573        1331.607399              0  \n",
      "4         2.472538      52.723493        1663.039311              0  \n",
      "5         0.000000      64.103466        2716.917245              0  \n",
      "6         0.849873       5.393592        2475.778689              0  \n",
      "8         0.000000      51.220572        1457.560612              0  \n"
     ]
    }
   ],
   "source": [
    "from sklearn.preprocessing import LabelEncoder\n",
    "\n",
    "categorical_columns = [\"Subsystem\", \"Status\", \"Anomaly_Type\"]\n",
    "encoder = LabelEncoder()\n",
    "\n",
    "for col in categorical_columns:\n",
    "    df[col] = encoder.fit_transform(df[col])\n",
    "\n",
    "print(df.head())\n",
    "\n"
   ]
  },
  {
   "cell_type": "code",
   "execution_count": 9,
   "id": "de4431ec-5606-40a3-9976-91334114f43d",
   "metadata": {},
   "outputs": [
    {
     "name": "stdout",
     "output_type": "stream",
     "text": [
      "Anomaly_Label\n",
      "0    689\n",
      "1     79\n",
      "Name: count, dtype: int64\n"
     ]
    }
   ],
   "source": [
    "print(df[\"Anomaly_Label\"].value_counts())\n"
   ]
  },
  {
   "cell_type": "code",
   "execution_count": 10,
   "id": "335b328a-0521-4bc7-b097-4efcdf682427",
   "metadata": {},
   "outputs": [],
   "source": [
    "# Convert Timestamp to seconds since epoch\n",
    "df[\"Timestamp\"] = pd.to_datetime(df[\"Timestamp\"])\n",
    "df[\"Timestamp\"] = df[\"Timestamp\"].astype(int) // 10**9  # Convert to Unix timestamp (seconds)\n"
   ]
  },
  {
   "cell_type": "code",
   "execution_count": 11,
   "id": "61edcb5e-ce1e-4dc1-ac86-8e9d9a76efb3",
   "metadata": {},
   "outputs": [
    {
     "name": "stdout",
     "output_type": "stream",
     "text": [
      "Before SMOTE: Anomaly_Label\n",
      "0    689\n",
      "1     79\n",
      "Name: count, dtype: int64\n",
      "After SMOTE: Anomaly_Label\n",
      "0    689\n",
      "1    482\n",
      "Name: count, dtype: int64\n"
     ]
    }
   ],
   "source": [
    "from imblearn.over_sampling import SMOTE\n",
    "\n",
    "X = df.drop(columns=[\"Anomaly_Label\"])\n",
    "y = df[\"Anomaly_Label\"]\n",
    "\n",
    "smote = SMOTE(sampling_strategy=0.7, random_state=42)\n",
    "X_resampled, y_resampled = smote.fit_resample(X, y)\n",
    "\n",
    "print(f\"Before SMOTE: {y.value_counts()}\")\n",
    "print(f\"After SMOTE: {pd.Series(y_resampled).value_counts()}\")\n"
   ]
  },
  {
   "cell_type": "code",
   "execution_count": 12,
   "id": "d60f8529-c27e-4469-87a0-3ee666703739",
   "metadata": {},
   "outputs": [
    {
     "name": "stdout",
     "output_type": "stream",
     "text": [
      "              precision    recall  f1-score   support\n",
      "\n",
      "           0       0.93      0.97      0.95       147\n",
      "           1       0.95      0.88      0.91        88\n",
      "\n",
      "    accuracy                           0.94       235\n",
      "   macro avg       0.94      0.92      0.93       235\n",
      "weighted avg       0.94      0.94      0.94       235\n",
      "\n"
     ]
    }
   ],
   "source": [
    "from sklearn.metrics import classification_report\n",
    "from sklearn.model_selection import train_test_split\n",
    "from sklearn.ensemble import RandomForestClassifier  # Or your model\n",
    "\n",
    "# Split the resampled data\n",
    "X_train, X_test, y_train, y_test = train_test_split(X_resampled, y_resampled, test_size=0.2, random_state=42)\n",
    "\n",
    "# Train a model\n",
    "model = RandomForestClassifier(random_state=42)\n",
    "model.fit(X_train, y_train)\n",
    "\n",
    "# Predictions\n",
    "y_pred = model.predict(X_test)\n",
    "\n",
    "# Check class-wise precision, recall, F1-score\n",
    "print(classification_report(y_test, y_pred))\n"
   ]
  },
  {
   "cell_type": "code",
   "execution_count": 13,
   "id": "a8bc94cb-e302-42ae-b554-9ef560590a4c",
   "metadata": {},
   "outputs": [
    {
     "name": "stdout",
     "output_type": "stream",
     "text": [
      "Training Set: (936, 12), Testing Set: (235, 12)\n"
     ]
    }
   ],
   "source": [
    "import pandas as pd\n",
    "from sklearn.model_selection import train_test_split\n",
    "\n",
    "# Splitting the dataset\n",
    "X_train, X_test, y_train, y_test = train_test_split(X_resampled, y_resampled, test_size=0.2, random_state=42)\n",
    "\n",
    "# Convert to DataFrame and save\n",
    "train_data = pd.DataFrame(X_train)\n",
    "train_data[\"Anomaly_Label\"] = y_train  # Add labels\n",
    "\n",
    "test_data = pd.DataFrame(X_test)\n",
    "test_data[\"Anomaly_Label\"] = y_test  # Add labels\n",
    "\n",
    "# Save to CSV\n",
    "train_data.to_csv(\"train_data.csv\", index=False)\n",
    "test_data.to_csv(\"test_data.csv\", index=False)\n",
    "\n",
    "print(f\"Training Set: {X_train.shape}, Testing Set: {X_test.shape}\")\n"
   ]
  },
  {
   "cell_type": "code",
   "execution_count": null,
   "id": "9f8f1cd4-db5f-459c-a19e-75e9aa9870c6",
   "metadata": {},
   "outputs": [],
   "source": []
  }
 ],
 "metadata": {
  "kernelspec": {
   "display_name": "Python 3 (ipykernel)",
   "language": "python",
   "name": "python3"
  },
  "language_info": {
   "codemirror_mode": {
    "name": "ipython",
    "version": 3
   },
   "file_extension": ".py",
   "mimetype": "text/x-python",
   "name": "python",
   "nbconvert_exporter": "python",
   "pygments_lexer": "ipython3",
   "version": "3.12.4"
  }
 },
 "nbformat": 4,
 "nbformat_minor": 5
}
